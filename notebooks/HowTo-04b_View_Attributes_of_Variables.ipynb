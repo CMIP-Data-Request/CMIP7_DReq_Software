{
 "cells": [
  {
   "cell_type": "markdown",
   "metadata": {},
   "source": [
    "# HowTo-04b_View_Attributes_of_Variables"
   ]
  },
  {
   "cell_type": "markdown",
   "metadata": {},
   "source": [
    "### 0- Import/load the DR content as a \"DR-Dictionnary\""
   ]
  },
  {
   "cell_type": "code",
   "execution_count": null,
   "metadata": {},
   "outputs": [],
   "source": [
    "from data_request_api.content import dreq_content as dc\n",
    "from data_request_api.query import dreq_query as dq"
   ]
  },
  {
   "cell_type": "code",
   "execution_count": null,
   "metadata": {},
   "outputs": [],
   "source": [
    "dc.get_versions()"
   ]
  },
  {
   "cell_type": "code",
   "execution_count": null,
   "metadata": {},
   "outputs": [],
   "source": [
    "used_version = 'v1.2'\n",
    "dq.DREQ_VERSION = used_version\n",
    "content = dc.load(version=used_version)\n",
    "dq.version_base_name()"
   ]
  },
  {
   "cell_type": "code",
   "execution_count": null,
   "metadata": {},
   "outputs": [],
   "source": [
    "database = dq.create_dreq_tables_for_request(content)"
   ]
  },
  {
   "cell_type": "code",
   "execution_count": null,
   "metadata": {},
   "outputs": [],
   "source": [
    "path_to_content = dc._dreq_content_loaded['json_path']"
   ]
  },
  {
   "cell_type": "markdown",
   "metadata": {},
   "source": [
    "### 1- Select some Variables or Tables or combinaison of both (i.e. Variable Compound names)"
   ]
  },
  {
   "cell_type": "code",
   "execution_count": null,
   "metadata": {
    "scrolled": false
   },
   "outputs": [],
   "source": [
    "used_cmor_tables = ['Amon', 'Omon']\n",
    "metadata1 = dq.get_variables_metadata(database, cmor_tables=used_cmor_tables, use_dreq_version=used_version)"
   ]
  },
  {
   "cell_type": "code",
   "execution_count": null,
   "metadata": {},
   "outputs": [],
   "source": [
    "# write result in a json file\n",
    "json_out1 = 'var_attrs_2tables.json'\n",
    "dq.write_variables_metadata(metadata1, json_out1, api_version='dev', use_dreq_version=used_version, content_path=path_to_content)"
   ]
  },
  {
   "cell_type": "code",
   "execution_count": null,
   "metadata": {},
   "outputs": [],
   "source": [
    "#MPM-ISSUE: fails with KeyError: 'frequency'\n",
    "used_cmor_vars = ['tas', 'tos']\n",
    "metadata2 = dq.get_variables_metadata(database, cmor_variables=used_cmor_vars, use_dreq_version=used_version)"
   ]
  },
  {
   "cell_type": "code",
   "execution_count": null,
   "metadata": {},
   "outputs": [],
   "source": [
    "# write result in a json file\n",
    "json_out2 = 'var_attrs_2vars.json'\n",
    "dq.write_variables_metadata(metadata2, json_out2, api_version='dev', use_dreq_version=used_version, content_path=path_to_content)"
   ]
  },
  {
   "cell_type": "code",
   "execution_count": null,
   "metadata": {},
   "outputs": [],
   "source": [
    "used_compound_varnames = ['tas.Amon', 'tos.Omon']\n",
    "metadata3 = dq.get_variables_metadata(database, compound_names=used_compound_varnames, use_dreq_version=used_version)"
   ]
  },
  {
   "cell_type": "code",
   "execution_count": null,
   "metadata": {},
   "outputs": [],
   "source": [
    "# write result in a json file\n",
    "json_out3 = 'var_attrs_2compounds.json'\n",
    "dq.write_variables_metadata(metadata3, json_out3, api_version='dev', use_dreq_version=used_version, content_path=path_to_content)"
   ]
  }
 ],
 "metadata": {
  "kernelspec": {
   "display_name": "cmip7_dreq_venv-devel (python3.13)",
   "language": "python",
   "name": "cmip7_dreq_venv-devel"
  },
  "language_info": {
   "codemirror_mode": {
    "name": "ipython",
    "version": 3
   },
   "file_extension": ".py",
   "mimetype": "text/x-python",
   "name": "python",
   "nbconvert_exporter": "python",
   "pygments_lexer": "ipython3",
   "version": "3.13.2"
  }
 },
 "nbformat": 4,
 "nbformat_minor": 2
}
