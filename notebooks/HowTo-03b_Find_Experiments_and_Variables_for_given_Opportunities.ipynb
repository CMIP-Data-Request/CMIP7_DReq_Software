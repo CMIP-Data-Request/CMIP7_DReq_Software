{
 "cells": [
  {
   "cell_type": "markdown",
   "metadata": {},
   "source": [
    "# HowTo-03b_Find_Experiments_and_Variables_for_given_Opportunities"
   ]
  },
  {
   "cell_type": "markdown",
   "metadata": {},
   "source": [
    "### 0- Import/load the DR content as a \"DR-Dictionnary\""
   ]
  },
  {
   "cell_type": "code",
   "execution_count": null,
   "metadata": {},
   "outputs": [],
   "source": [
    "from data_request_api.content import dreq_content as dc\n",
    "from data_request_api.query import dreq_query as dq"
   ]
  },
  {
   "cell_type": "code",
   "execution_count": null,
   "metadata": {},
   "outputs": [],
   "source": [
    "dc.get_versions()"
   ]
  },
  {
   "cell_type": "code",
   "execution_count": null,
   "metadata": {},
   "outputs": [],
   "source": [
    "used_version = 'v1.2'\n",
    "dq.DREQ_VERSION = used_version\n",
    "content = dc.load(version=used_version)\n",
    "dq.version_base_name()"
   ]
  },
  {
   "cell_type": "code",
   "execution_count": null,
   "metadata": {},
   "outputs": [],
   "source": [
    "database = dq.create_dreq_tables_for_request(content)"
   ]
  },
  {
   "cell_type": "markdown",
   "metadata": {},
   "source": [
    "### 1- Select some Opportunities\n",
    "_or simply set use_opps = 'all' to support all opportunities_"
   ]
  },
  {
   "cell_type": "code",
   "execution_count": null,
   "metadata": {},
   "outputs": [],
   "source": [
    "used_opps = []\n",
    "used_opps.append(\"Energy System Impacts\")\n",
    "used_opps.append(\"Health Impacts\")\n",
    "prio_cutoff = 'High'"
   ]
  },
  {
   "cell_type": "code",
   "execution_count": null,
   "metadata": {},
   "outputs": [],
   "source": [
    "#MPM-ISSUE?: sounds like priority_cutoff is not taken into account (all prios in result)\n",
    "expt_vars_per_expes = dq.get_requested_variables(database, used_opps, priority_cutoff=prio_cutoff, verbose=False, consolidated=True, check_core_variables=False)"
   ]
  },
  {
   "cell_type": "code",
   "execution_count": null,
   "metadata": {},
   "outputs": [],
   "source": [
    "expt_vars_per_expes"
   ]
  },
  {
   "cell_type": "code",
   "execution_count": null,
   "metadata": {},
   "outputs": [],
   "source": [
    "#MPM-ISSUE: Empty Core variables lists\n",
    "expt_vars_per_expes = dq.get_requested_variables(database, used_opps, priority_cutoff=prio_cutoff, verbose=False, consolidated=True, check_core_variables=True)"
   ]
  }
 ],
 "metadata": {
  "kernelspec": {
   "display_name": "cmip7_dreq_venv-devel (python3.13)",
   "language": "python",
   "name": "cmip7_dreq_venv-devel"
  },
  "language_info": {
   "codemirror_mode": {
    "name": "ipython",
    "version": 3
   },
   "file_extension": ".py",
   "mimetype": "text/x-python",
   "name": "python",
   "nbconvert_exporter": "python",
   "pygments_lexer": "ipython3",
   "version": "3.13.2"
  }
 },
 "nbformat": 4,
 "nbformat_minor": 2
}
