{
 "cells": [
  {
   "cell_type": "markdown",
   "metadata": {},
   "source": [
    "# HowTo-03b_Find_Experiments_and_Variables_for_given_Opportunities"
   ]
  },
  {
   "cell_type": "markdown",
   "metadata": {},
   "source": [
    "### Import/load the DR content as a \"DR-Dictionnary\""
   ]
  },
  {
   "cell_type": "code",
   "execution_count": null,
   "metadata": {},
   "outputs": [],
   "source": [
    "from data_request_api.content import dreq_content as dc\n",
    "from data_request_api.query import dreq_query as dq"
   ]
  },
  {
   "cell_type": "code",
   "execution_count": null,
   "metadata": {},
   "outputs": [],
   "source": [
    "dc.get_versions()"
   ]
  },
  {
   "cell_type": "code",
   "execution_count": null,
   "metadata": {},
   "outputs": [],
   "source": [
    "used_dreq_version = 'v1.2'\n",
    "content = dc.load(version=used_dreq_version)\n",
    "database = dq.create_dreq_tables_for_request(content, dreq_version=used_dreq_version)"
   ]
  },
  {
   "cell_type": "markdown",
   "metadata": {},
   "source": [
    "### Select some Opportunities"
   ]
  },
  {
   "cell_type": "code",
   "execution_count": null,
   "metadata": {},
   "outputs": [],
   "source": [
    "#- Or simply set use_opps = 'all' to support all opportunities\n",
    "used_opps = []\n",
    "used_opps.append(\"Energy System Impacts\")\n",
    "used_opps.append(\"Health Impacts\")"
   ]
  },
  {
   "cell_type": "markdown",
   "metadata": {},
   "source": [
    "### Set a priority cut-off for Variables"
   ]
  },
  {
   "cell_type": "code",
   "execution_count": null,
   "metadata": {},
   "outputs": [],
   "source": [
    "prio_cutoff = 'Low' # among: 'Low', 'Medium', High'"
   ]
  },
  {
   "cell_type": "markdown",
   "metadata": {},
   "source": [
    "### Show the Variables expected for each Experiment (given the selected Opportinities)"
   ]
  },
  {
   "cell_type": "code",
   "execution_count": null,
   "metadata": {},
   "outputs": [],
   "source": [
    "#>>> issue: sounds like used_opps and priority_cutoff args are not taken into account\n",
    "expected_vars_per_expes = dq.get_requested_variables(database, used_opps, priority_cutoff=prio_cutoff, verbose=False, check_core_variables=True)"
   ]
  },
  {
   "cell_type": "code",
   "execution_count": null,
   "metadata": {},
   "outputs": [],
   "source": [
    "expected_vars_per_expes"
   ]
  }
 ],
 "metadata": {
  "kernelspec": {
   "display_name": "cmip7_dreq_venv-devel (python3.13)",
   "language": "python",
   "name": "cmip7_dreq_venv-devel"
  },
  "language_info": {
   "codemirror_mode": {
    "name": "ipython",
    "version": 3
   },
   "file_extension": ".py",
   "mimetype": "text/x-python",
   "name": "python",
   "nbconvert_exporter": "python",
   "pygments_lexer": "ipython3",
   "version": "3.13.2"
  }
 },
 "nbformat": 4,
 "nbformat_minor": 2
}
